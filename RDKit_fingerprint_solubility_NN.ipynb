{
 "cells": [
  {
   "cell_type": "markdown",
   "metadata": {},
   "source": [
    "# Predict Solubilities of Molecules from Fingerprints using Neural Network"
   ]
  },
  {
   "cell_type": "markdown",
   "metadata": {
    "id": "qlIv5K5BtzEU"
   },
   "source": [
    "## Download RDKit and Import Packages"
   ]
  },
  {
   "cell_type": "code",
   "execution_count": null,
   "metadata": {
    "id": "Q-dgRhRkwAb0"
   },
   "outputs": [],
   "source": [
    "# Install RDKit. Takes 2-3 minutes\n",
    "%%capture\n",
    "!wget -c https://repo.continuum.io/miniconda/Miniconda3-latest-Linux-x86_64.sh\n",
    "!chmod +x Miniconda3-latest-Linux-x86_64.sh\n",
    "!time bash ./Miniconda3-latest-Linux-x86_64.sh -b -f -p /usr/local\n",
    "!time conda install -q -y -c conda-forge python=3.7\n",
    "!time conda install -q -y -c conda-forge rdkit=2020.09.02"
   ]
  },
  {
   "cell_type": "code",
   "execution_count": null,
   "metadata": {
    "id": "m_y3iMws4qVH"
   },
   "outputs": [],
   "source": [
    "from tensorflow.keras.models import Sequential, Model\n",
    "from tensorflow.keras.layers import Activation, Input, Dense\n",
    "from tensorflow.keras.optimizers import Adam\n",
    "from tensorflow.keras import losses"
   ]
  },
  {
   "cell_type": "code",
   "execution_count": null,
   "metadata": {
    "id": "RXg_4dQFwKPg"
   },
   "outputs": [],
   "source": [
    "import sys\n",
    "sys.path.append('/usr/local/lib/python3.7/site-packages/')\n",
    "\n",
    "from rdkit import Chem\n",
    "from rdkit.Chem import Draw\n",
    "from rdkit.Chem.Draw import IPythonConsole\n",
    "from rdkit.Chem import Descriptors, rdMolDescriptors\n",
    "from rdkit.Chem import AllChem\n",
    "from rdkit.Chem import PandasTools\n",
    "from rdkit import DataStructs\n",
    "import numpy as np\n",
    "import pandas as pd\n",
    "\n",
    "from sklearn.model_selection import train_test_split\n",
    "from sklearn.preprocessing import MinMaxScaler"
   ]
  },
  {
   "cell_type": "markdown",
   "metadata": {
    "id": "KyhiQ4GmuCgP"
   },
   "source": [
    "## Draw Molecules from SMILES form and Insert them into our dataframe"
   ]
  },
  {
   "cell_type": "code",
   "execution_count": null,
   "metadata": {
    "colab": {
     "base_uri": "https://localhost:8080/",
     "height": 223
    },
    "id": "MLOjYKkbtr3U",
    "outputId": "04613b0b-8557-4f40-8db2-3c20d33b9305"
   },
   "outputs": [
    {
     "data": {
      "text/html": [
       "<div>\n",
       "<style scoped>\n",
       "    .dataframe tbody tr th:only-of-type {\n",
       "        vertical-align: middle;\n",
       "    }\n",
       "\n",
       "    .dataframe tbody tr th {\n",
       "        vertical-align: top;\n",
       "    }\n",
       "\n",
       "    .dataframe thead th {\n",
       "        text-align: right;\n",
       "    }\n",
       "</style>\n",
       "<table border=\"1\" class=\"dataframe\">\n",
       "  <thead>\n",
       "    <tr style=\"text-align: right;\">\n",
       "      <th></th>\n",
       "      <th>Compound ID</th>\n",
       "      <th>ESOL predicted log solubility in mols per litre</th>\n",
       "      <th>Minimum Degree</th>\n",
       "      <th>Molecular Weight</th>\n",
       "      <th>Number of H-Bond Donors</th>\n",
       "      <th>Number of Rings</th>\n",
       "      <th>Number of Rotatable Bonds</th>\n",
       "      <th>Polar Surface Area</th>\n",
       "      <th>measured log solubility in mols per litre</th>\n",
       "      <th>smiles</th>\n",
       "    </tr>\n",
       "  </thead>\n",
       "  <tbody>\n",
       "    <tr>\n",
       "      <th>0</th>\n",
       "      <td>Amigdalin</td>\n",
       "      <td>-0.974</td>\n",
       "      <td>1</td>\n",
       "      <td>457.432</td>\n",
       "      <td>7</td>\n",
       "      <td>3</td>\n",
       "      <td>7</td>\n",
       "      <td>202.32</td>\n",
       "      <td>-0.77</td>\n",
       "      <td>OCC3OC(OCC2OC(OC(C#N)c1ccccc1)C(O)C(O)C2O)C(O)...</td>\n",
       "    </tr>\n",
       "    <tr>\n",
       "      <th>1</th>\n",
       "      <td>Fenfuram</td>\n",
       "      <td>-2.885</td>\n",
       "      <td>1</td>\n",
       "      <td>201.225</td>\n",
       "      <td>1</td>\n",
       "      <td>2</td>\n",
       "      <td>2</td>\n",
       "      <td>42.24</td>\n",
       "      <td>-3.30</td>\n",
       "      <td>Cc1occc1C(=O)Nc2ccccc2</td>\n",
       "    </tr>\n",
       "    <tr>\n",
       "      <th>2</th>\n",
       "      <td>citral</td>\n",
       "      <td>-2.579</td>\n",
       "      <td>1</td>\n",
       "      <td>152.237</td>\n",
       "      <td>0</td>\n",
       "      <td>0</td>\n",
       "      <td>4</td>\n",
       "      <td>17.07</td>\n",
       "      <td>-2.06</td>\n",
       "      <td>CC(C)=CCCC(C)=CC(=O)</td>\n",
       "    </tr>\n",
       "    <tr>\n",
       "      <th>3</th>\n",
       "      <td>Picene</td>\n",
       "      <td>-6.618</td>\n",
       "      <td>2</td>\n",
       "      <td>278.354</td>\n",
       "      <td>0</td>\n",
       "      <td>5</td>\n",
       "      <td>0</td>\n",
       "      <td>0.00</td>\n",
       "      <td>-7.87</td>\n",
       "      <td>c1ccc2c(c1)ccc3c2ccc4c5ccccc5ccc43</td>\n",
       "    </tr>\n",
       "    <tr>\n",
       "      <th>4</th>\n",
       "      <td>Thiophene</td>\n",
       "      <td>-2.232</td>\n",
       "      <td>2</td>\n",
       "      <td>84.143</td>\n",
       "      <td>0</td>\n",
       "      <td>1</td>\n",
       "      <td>0</td>\n",
       "      <td>0.00</td>\n",
       "      <td>-1.33</td>\n",
       "      <td>c1ccsc1</td>\n",
       "    </tr>\n",
       "  </tbody>\n",
       "</table>\n",
       "</div>"
      ],
      "text/plain": [
       "  Compound ID  ...                                             smiles\n",
       "0   Amigdalin  ...  OCC3OC(OCC2OC(OC(C#N)c1ccccc1)C(O)C(O)C2O)C(O)...\n",
       "1    Fenfuram  ...                             Cc1occc1C(=O)Nc2ccccc2\n",
       "2      citral  ...                               CC(C)=CCCC(C)=CC(=O)\n",
       "3      Picene  ...                 c1ccc2c(c1)ccc3c2ccc4c5ccccc5ccc43\n",
       "4   Thiophene  ...                                            c1ccsc1\n",
       "\n",
       "[5 rows x 10 columns]"
      ]
     },
     "execution_count": 60,
     "metadata": {
      "tags": []
     },
     "output_type": "execute_result"
    }
   ],
   "source": [
    "url = 'https://raw.githubusercontent.com/deepchem/deepchem/master/datasets/delaney-processed.csv'\n",
    "df = pd.read_csv(url, error_bad_lines=False)\n",
    "df.head()"
   ]
  },
  {
   "cell_type": "code",
   "execution_count": null,
   "metadata": {
    "colab": {
     "base_uri": "https://localhost:8080/",
     "height": 480
    },
    "id": "_hcm5D8buDgZ",
    "outputId": "53d1932b-64b7-4a7c-8c69-d8206c5a6757"
   },
   "outputs": [
    {
     "data": {
      "text/html": [
       "<div>\n",
       "<style scoped>\n",
       "    .dataframe tbody tr th:only-of-type {\n",
       "        vertical-align: middle;\n",
       "    }\n",
       "\n",
       "    .dataframe tbody tr th {\n",
       "        vertical-align: top;\n",
       "    }\n",
       "\n",
       "    .dataframe thead th {\n",
       "        text-align: right;\n",
       "    }\n",
       "</style>\n",
       "<table border=\"1\" class=\"dataframe\">\n",
       "  <thead>\n",
       "    <tr style=\"text-align: right;\">\n",
       "      <th></th>\n",
       "      <th>Compound ID</th>\n",
       "      <th>solubility</th>\n",
       "      <th>smiles</th>\n",
       "      <th>Molecule</th>\n",
       "    </tr>\n",
       "  </thead>\n",
       "  <tbody>\n",
       "    <tr>\n",
       "      <th>0</th>\n",
       "      <td>Amigdalin</td>\n",
       "      <td>-0.77</td>\n",
       "      <td>OCC3OC(OCC2OC(OC(C#N)c1ccccc1)C(O)C(O)C2O)C(O)...</td>\n",
       "      <td><img data-content=\"rdkit/molecule\" src=\"data:image/png;base64,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\" alt=\"Mol\"/></td>\n",
       "    </tr>\n",
       "    <tr>\n",
       "      <th>1</th>\n",
       "      <td>Fenfuram</td>\n",
       "      <td>-3.30</td>\n",
       "      <td>Cc1occc1C(=O)Nc2ccccc2</td>\n",
       "      <td><img data-content=\"rdkit/molecule\" src=\"data:image/png;base64,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\" alt=\"Mol\"/></td>\n",
       "    </tr>\n",
       "  </tbody>\n",
       "</table>\n",
       "</div>"
      ],
      "text/plain": [
       "  Compound ID  ...                                           Molecule\n",
       "0   Amigdalin  ...  <img data-content=\"rdkit/molecule\" src=\"data:i...\n",
       "1    Fenfuram  ...  <img data-content=\"rdkit/molecule\" src=\"data:i...\n",
       "\n",
       "[2 rows x 4 columns]"
      ]
     },
     "execution_count": 61,
     "metadata": {
      "tags": []
     },
     "output_type": "execute_result"
    }
   ],
   "source": [
    "df = df[['Compound ID', 'measured log solubility in mols per litre', 'smiles']]\n",
    "df = df.rename(columns = {'measured log solubility in mols per litre': 'solubility'})\n",
    "PandasTools.AddMoleculeColumnToFrame(df, 'smiles', 'Molecule')\n",
    "df.head(2)"
   ]
  },
  {
   "cell_type": "markdown",
   "metadata": {
    "id": "WSMrwgUiuXP1"
   },
   "source": [
    "## Rescale Solubility and Split training and testing sets"
   ]
  },
  {
   "cell_type": "code",
   "execution_count": null,
   "metadata": {
    "colab": {
     "base_uri": "https://localhost:8080/",
     "height": 480
    },
    "id": "f9PB2gw6h7nh",
    "outputId": "1d330eb1-8005-47a9-ecce-dfbd630e5396"
   },
   "outputs": [
    {
     "data": {
      "text/html": [
       "<div>\n",
       "<style scoped>\n",
       "    .dataframe tbody tr th:only-of-type {\n",
       "        vertical-align: middle;\n",
       "    }\n",
       "\n",
       "    .dataframe tbody tr th {\n",
       "        vertical-align: top;\n",
       "    }\n",
       "\n",
       "    .dataframe thead th {\n",
       "        text-align: right;\n",
       "    }\n",
       "</style>\n",
       "<table border=\"1\" class=\"dataframe\">\n",
       "  <thead>\n",
       "    <tr style=\"text-align: right;\">\n",
       "      <th></th>\n",
       "      <th>Compound ID</th>\n",
       "      <th>solubility</th>\n",
       "      <th>smiles</th>\n",
       "      <th>Molecule</th>\n",
       "      <th>Scaled solubility</th>\n",
       "    </tr>\n",
       "  </thead>\n",
       "  <tbody>\n",
       "    <tr>\n",
       "      <th>0</th>\n",
       "      <td>Amigdalin</td>\n",
       "      <td>-0.77</td>\n",
       "      <td>OCC3OC(OCC2OC(OC(C#N)c1ccccc1)C(O)C(O)C2O)C(O)...</td>\n",
       "      <td><img data-content=\"rdkit/molecule\" src=\"data:image/png;base64,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\" alt=\"Mol\"/></td>\n",
       "      <td>0.821700</td>\n",
       "    </tr>\n",
       "    <tr>\n",
       "      <th>1</th>\n",
       "      <td>Fenfuram</td>\n",
       "      <td>-3.30</td>\n",
       "      <td>Cc1occc1C(=O)Nc2ccccc2</td>\n",
       "      <td><img data-content=\"rdkit/molecule\" src=\"data:image/png;base64,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\" alt=\"Mol\"/></td>\n",
       "      <td>0.629742</td>\n",
       "    </tr>\n",
       "  </tbody>\n",
       "</table>\n",
       "</div>"
      ],
      "text/plain": [
       "  Compound ID  ...  Scaled solubility\n",
       "0   Amigdalin  ...           0.821700\n",
       "1    Fenfuram  ...           0.629742\n",
       "\n",
       "[2 rows x 5 columns]"
      ]
     },
     "execution_count": 62,
     "metadata": {
      "tags": []
     },
     "output_type": "execute_result"
    }
   ],
   "source": [
    "# Rescale solubility from 0 to 1\n",
    "scaler = MinMaxScaler(feature_range = (0,1))\n",
    "scaled_solubility = scaler.fit_transform(df[['solubility']])\n",
    "df = pd.concat([df, pd.DataFrame(scaled_solubility, columns = ['Scaled solubility'])], axis=1)\n",
    "df.head(2)"
   ]
  },
  {
   "cell_type": "code",
   "execution_count": null,
   "metadata": {
    "id": "cNjpmac1wbCL"
   },
   "outputs": [],
   "source": [
    "# train test split\n",
    "train_df, test_df = train_test_split(df, test_size=0.2)"
   ]
  },
  {
   "cell_type": "code",
   "execution_count": null,
   "metadata": {
    "id": "zamjtwcOwhIk"
   },
   "outputs": [],
   "source": [
    "# list of molecules\n",
    "train_mols = [Chem.MolFromSmiles(SMILES) for SMILES in list(train_df['smiles'])]\n",
    "test_mols = [Chem.MolFromSmiles(SMILES) for SMILES in list(test_df['smiles'])]"
   ]
  },
  {
   "cell_type": "code",
   "execution_count": null,
   "metadata": {
    "colab": {
     "base_uri": "https://localhost:8080/",
     "height": 167
    },
    "id": "QNOMYAl3UkWl",
    "outputId": "e79b85e6-e13b-4c8e-f8b1-8f481d646efc"
   },
   "outputs": [
    {
     "data": {
      "image/png": "[encoded data removed]",
      "text/plain": [
       "<rdkit.Chem.rdchem.Mol at 0x7feca0450440>"
      ]
     },
     "execution_count": 83,
     "metadata": {
      "tags": []
     },
     "output_type": "execute_result"
    }
   ],
   "source": [
    "train_mols[0]"
   ]
  },
  {
   "cell_type": "code",
   "execution_count": null,
   "metadata": {
    "colab": {
     "base_uri": "https://localhost:8080/",
     "height": 317
    },
    "id": "VZvDb64X3HVo",
    "outputId": "699e8c4d-dceb-4082-e26f-45f344f02837"
   },
   "outputs": [
    {
     "data": {
      "image/png": "[encoded data removed]",
      "text/plain": [
       "<PIL.PngImagePlugin.PngImageFile image mode=RGB size=1050x300 at 0x7FEC5AB092D0>"
      ]
     },
     "execution_count": 84,
     "metadata": {
      "tags": []
     },
     "output_type": "execute_result"
    }
   ],
   "source": [
    "# An example of visualizing the fingerprint\n",
    "bi = {}\n",
    "fp = rdMolDescriptors.GetMorganFingerprintAsBitVect(train_mols[0], radius=2, bitInfo=bi, nBits=256)\n",
    "tpls = [(train_mols[0], x, bi) for x in fp.GetOnBits()]\n",
    "Draw.DrawMorganBits(tpls[:14], molsPerRow=7, legends=[str(x) for x in fp.GetOnBits()[:14]])"
   ]
  },
  {
   "cell_type": "code",
   "execution_count": null,
   "metadata": {
    "id": "5LegDaSzv3q7"
   },
   "outputs": [],
   "source": [
    "# list of fingerprints\n",
    "train_bi = {}\n",
    "test_bi = {}\n",
    "train_fingerprints = [AllChem.GetMorganFingerprintAsBitVect(mol, radius=2, bitInfo= train_bi, nBits=256) for mol in train_mols]\n",
    "test_fingerprints = [AllChem.GetMorganFingerprintAsBitVect(mol, radius=2, bitInfo= test_bi, nBits=256) for mol in test_mols]"
   ]
  },
  {
   "cell_type": "code",
   "execution_count": null,
   "metadata": {
    "id": "SNIXE6cq0-yb"
   },
   "outputs": [],
   "source": [
    "# Array form of the fingerprints to send in NN model\n",
    "train_fingerprints_array = []\n",
    "for train_fingerprint in train_fingerprints:\n",
    "        train_array = np.zeros((1,), dtype= int)\n",
    "        DataStructs.ConvertToNumpyArray(train_fingerprint, train_array)\n",
    "        train_fingerprints_array.append(train_array)\n",
    "\n",
    "test_fingerprints_array = []\n",
    "for test_fingerprint in test_fingerprints:\n",
    "        test_array = np.zeros((1,), dtype= int)\n",
    "        DataStructs.ConvertToNumpyArray(test_fingerprint, test_array)\n",
    "        test_fingerprints_array.append(test_array)"
   ]
  },
  {
   "cell_type": "code",
   "execution_count": null,
   "metadata": {
    "id": "3oxIQtvw6M_o"
   },
   "outputs": [],
   "source": [
    "# Solubility (the thing we are predicting)\n",
    "train_solubility_list = list(train_df['Scaled solubility'])\n",
    "test_solubility_list = list(test_df['Scaled solubility'])"
   ]
  },
  {
   "cell_type": "markdown",
   "metadata": {
    "id": "8Aozj-B-uovP"
   },
   "source": [
    "## Build and Train the Neural Network so that it could predict solubility from fingerprints"
   ]
  },
  {
   "cell_type": "code",
   "execution_count": null,
   "metadata": {
    "colab": {
     "base_uri": "https://localhost:8080/"
    },
    "id": "HxYYg_Ujs7fQ",
    "outputId": "334f6508-7cea-465f-c858-1628b048f086"
   },
   "outputs": [
    {
     "name": "stdout",
     "output_type": "stream",
     "text": [
      "Model: \"sequential_4\"\n",
      "_________________________________________________________________\n",
      "Layer (type)                 Output Shape              Param #   \n",
      "=================================================================\n",
      "dense_20 (Dense)             (None, 256)               65792     \n",
      "_________________________________________________________________\n",
      "dense_21 (Dense)             (None, 128)               32896     \n",
      "_________________________________________________________________\n",
      "dense_22 (Dense)             (None, 64)                8256      \n",
      "_________________________________________________________________\n",
      "dense_23 (Dense)             (None, 16)                1040      \n",
      "_________________________________________________________________\n",
      "dense_24 (Dense)             (None, 1)                 17        \n",
      "=================================================================\n",
      "Total params: 108,001\n",
      "Trainable params: 108,001\n",
      "Non-trainable params: 0\n",
      "_________________________________________________________________\n"
     ]
    }
   ],
   "source": [
    "#NN Model\n",
    "model = Sequential([\n",
    "    Dense(256, input_shape=(256,), activation= \"relu\"),\n",
    "    Dense(128, activation= \"relu\"),\n",
    "    Dense(64, activation= \"relu\"),\n",
    "    Dense(16, activation= \"relu\"),\n",
    "    Dense(1, activation= \"sigmoid\")\n",
    "])\n",
    "model.summary()"
   ]
  },
  {
   "cell_type": "code",
   "execution_count": null,
   "metadata": {
    "colab": {
     "base_uri": "https://localhost:8080/"
    },
    "id": "p9N_Vb7E5a9Q",
    "outputId": "a69538e7-0eb9-4f14-8967-c9b856f65ccc"
   },
   "outputs": [
    {
     "name": "stdout",
     "output_type": "stream",
     "text": [
      "Epoch 1/100\n",
      "163/163 [==============================] - 1s 5ms/step - loss: 0.0272 - mean_squared_error: 0.0272 - val_loss: 0.0162 - val_mean_squared_error: 0.0162\n",
      "Epoch 2/100\n",
      "163/163 [==============================] - 1s 3ms/step - loss: 0.0097 - mean_squared_error: 0.0097 - val_loss: 0.0131 - val_mean_squared_error: 0.0131\n",
      "Epoch 3/100\n",
      "163/163 [==============================] - 1s 3ms/step - loss: 0.0055 - mean_squared_error: 0.0055 - val_loss: 0.0103 - val_mean_squared_error: 0.0103\n",
      "Epoch 4/100\n",
      "163/163 [==============================] - 1s 3ms/step - loss: 0.0028 - mean_squared_error: 0.0028 - val_loss: 0.0101 - val_mean_squared_error: 0.0101\n",
      "Epoch 5/100\n",
      "163/163 [==============================] - 1s 4ms/step - loss: 0.0019 - mean_squared_error: 0.0019 - val_loss: 0.0094 - val_mean_squared_error: 0.0094\n",
      "Epoch 6/100\n",
      "163/163 [==============================] - 1s 3ms/step - loss: 0.0021 - mean_squared_error: 0.0021 - val_loss: 0.0091 - val_mean_squared_error: 0.0091\n",
      "Epoch 7/100\n",
      "163/163 [==============================] - 1s 4ms/step - loss: 0.0014 - mean_squared_error: 0.0014 - val_loss: 0.0091 - val_mean_squared_error: 0.0091\n",
      "Epoch 8/100\n",
      "163/163 [==============================] - 1s 4ms/step - loss: 0.0013 - mean_squared_error: 0.0013 - val_loss: 0.0090 - val_mean_squared_error: 0.0090\n",
      "Epoch 9/100\n",
      "163/163 [==============================] - 1s 3ms/step - loss: 0.0019 - mean_squared_error: 0.0019 - val_loss: 0.0096 - val_mean_squared_error: 0.0096\n",
      "Epoch 10/100\n",
      "163/163 [==============================] - 0s 3ms/step - loss: 0.0022 - mean_squared_error: 0.0022 - val_loss: 0.0090 - val_mean_squared_error: 0.0090\n",
      "Epoch 11/100\n",
      "163/163 [==============================] - 1s 3ms/step - loss: 0.0019 - mean_squared_error: 0.0019 - val_loss: 0.0097 - val_mean_squared_error: 0.0097\n",
      "Epoch 12/100\n",
      "163/163 [==============================] - 1s 4ms/step - loss: 0.0011 - mean_squared_error: 0.0011 - val_loss: 0.0097 - val_mean_squared_error: 0.0097\n",
      "Epoch 13/100\n",
      "163/163 [==============================] - 1s 3ms/step - loss: 0.0014 - mean_squared_error: 0.0014 - val_loss: 0.0095 - val_mean_squared_error: 0.0095\n",
      "Epoch 14/100\n",
      "163/163 [==============================] - 1s 3ms/step - loss: 0.0019 - mean_squared_error: 0.0019 - val_loss: 0.0088 - val_mean_squared_error: 0.0088\n",
      "Epoch 15/100\n",
      "163/163 [==============================] - 1s 3ms/step - loss: 0.0012 - mean_squared_error: 0.0012 - val_loss: 0.0095 - val_mean_squared_error: 0.0095\n",
      "Epoch 16/100\n",
      "163/163 [==============================] - 1s 3ms/step - loss: 0.0013 - mean_squared_error: 0.0013 - val_loss: 0.0087 - val_mean_squared_error: 0.0087\n",
      "Epoch 17/100\n",
      "163/163 [==============================] - 1s 3ms/step - loss: 0.0011 - mean_squared_error: 0.0011 - val_loss: 0.0094 - val_mean_squared_error: 0.0094\n",
      "Epoch 18/100\n",
      "163/163 [==============================] - 1s 3ms/step - loss: 0.0015 - mean_squared_error: 0.0015 - val_loss: 0.0086 - val_mean_squared_error: 0.0086\n",
      "Epoch 19/100\n",
      "163/163 [==============================] - 1s 3ms/step - loss: 0.0013 - mean_squared_error: 0.0013 - val_loss: 0.0087 - val_mean_squared_error: 0.0087\n",
      "Epoch 20/100\n",
      "163/163 [==============================] - 1s 3ms/step - loss: 0.0011 - mean_squared_error: 0.0011 - val_loss: 0.0085 - val_mean_squared_error: 0.0085\n",
      "Epoch 21/100\n",
      "163/163 [==============================] - 1s 3ms/step - loss: 0.0010 - mean_squared_error: 0.0010 - val_loss: 0.0090 - val_mean_squared_error: 0.0090\n",
      "Epoch 22/100\n",
      "163/163 [==============================] - 1s 3ms/step - loss: 9.9435e-04 - mean_squared_error: 9.9435e-04 - val_loss: 0.0086 - val_mean_squared_error: 0.0086\n",
      "Epoch 23/100\n",
      "163/163 [==============================] - 1s 3ms/step - loss: 0.0012 - mean_squared_error: 0.0012 - val_loss: 0.0089 - val_mean_squared_error: 0.0089\n",
      "Epoch 24/100\n",
      "163/163 [==============================] - 1s 4ms/step - loss: 9.3655e-04 - mean_squared_error: 9.3655e-04 - val_loss: 0.0087 - val_mean_squared_error: 0.0087\n",
      "Epoch 25/100\n",
      "163/163 [==============================] - 1s 4ms/step - loss: 9.6480e-04 - mean_squared_error: 9.6480e-04 - val_loss: 0.0079 - val_mean_squared_error: 0.0079\n",
      "Epoch 26/100\n",
      "163/163 [==============================] - 1s 4ms/step - loss: 0.0012 - mean_squared_error: 0.0012 - val_loss: 0.0090 - val_mean_squared_error: 0.0090\n",
      "Epoch 27/100\n",
      "163/163 [==============================] - 1s 3ms/step - loss: 0.0017 - mean_squared_error: 0.0017 - val_loss: 0.0088 - val_mean_squared_error: 0.0088\n",
      "Epoch 28/100\n",
      "163/163 [==============================] - 1s 3ms/step - loss: 0.0011 - mean_squared_error: 0.0011 - val_loss: 0.0086 - val_mean_squared_error: 0.0086\n",
      "Epoch 29/100\n",
      "163/163 [==============================] - 1s 4ms/step - loss: 8.4520e-04 - mean_squared_error: 8.4520e-04 - val_loss: 0.0087 - val_mean_squared_error: 0.0087\n",
      "Epoch 30/100\n",
      "163/163 [==============================] - 1s 4ms/step - loss: 8.6592e-04 - mean_squared_error: 8.6592e-04 - val_loss: 0.0086 - val_mean_squared_error: 0.0086\n",
      "Epoch 31/100\n",
      "163/163 [==============================] - 1s 3ms/step - loss: 0.0012 - mean_squared_error: 0.0012 - val_loss: 0.0092 - val_mean_squared_error: 0.0092\n",
      "Epoch 32/100\n",
      "163/163 [==============================] - 1s 3ms/step - loss: 0.0012 - mean_squared_error: 0.0012 - val_loss: 0.0088 - val_mean_squared_error: 0.0088\n",
      "Epoch 33/100\n",
      "163/163 [==============================] - 1s 4ms/step - loss: 9.3091e-04 - mean_squared_error: 9.3091e-04 - val_loss: 0.0087 - val_mean_squared_error: 0.0087\n",
      "Epoch 34/100\n",
      "163/163 [==============================] - 1s 4ms/step - loss: 0.0010 - mean_squared_error: 0.0010 - val_loss: 0.0085 - val_mean_squared_error: 0.0085\n",
      "Epoch 35/100\n",
      "163/163 [==============================] - 1s 3ms/step - loss: 5.9821e-04 - mean_squared_error: 5.9821e-04 - val_loss: 0.0092 - val_mean_squared_error: 0.0092\n",
      "Epoch 36/100\n",
      "163/163 [==============================] - 1s 4ms/step - loss: 9.5631e-04 - mean_squared_error: 9.5631e-04 - val_loss: 0.0082 - val_mean_squared_error: 0.0082\n",
      "Epoch 37/100\n",
      "163/163 [==============================] - 1s 3ms/step - loss: 9.0166e-04 - mean_squared_error: 9.0166e-04 - val_loss: 0.0085 - val_mean_squared_error: 0.0085\n",
      "Epoch 38/100\n",
      "163/163 [==============================] - 1s 4ms/step - loss: 0.0011 - mean_squared_error: 0.0011 - val_loss: 0.0088 - val_mean_squared_error: 0.0088\n",
      "Epoch 39/100\n",
      "163/163 [==============================] - 1s 3ms/step - loss: 7.4297e-04 - mean_squared_error: 7.4297e-04 - val_loss: 0.0088 - val_mean_squared_error: 0.0088\n",
      "Epoch 40/100\n",
      "163/163 [==============================] - 1s 3ms/step - loss: 9.3164e-04 - mean_squared_error: 9.3164e-04 - val_loss: 0.0089 - val_mean_squared_error: 0.0089\n",
      "Epoch 41/100\n",
      "163/163 [==============================] - 1s 3ms/step - loss: 8.6067e-04 - mean_squared_error: 8.6067e-04 - val_loss: 0.0086 - val_mean_squared_error: 0.0086\n",
      "Epoch 42/100\n",
      "163/163 [==============================] - 1s 3ms/step - loss: 9.5920e-04 - mean_squared_error: 9.5920e-04 - val_loss: 0.0088 - val_mean_squared_error: 0.0088\n",
      "Epoch 43/100\n",
      "163/163 [==============================] - 1s 4ms/step - loss: 8.5367e-04 - mean_squared_error: 8.5367e-04 - val_loss: 0.0085 - val_mean_squared_error: 0.0085\n",
      "Epoch 44/100\n",
      "163/163 [==============================] - 1s 3ms/step - loss: 0.0011 - mean_squared_error: 0.0011 - val_loss: 0.0083 - val_mean_squared_error: 0.0083\n",
      "Epoch 45/100\n",
      "163/163 [==============================] - 1s 3ms/step - loss: 0.0010 - mean_squared_error: 0.0010 - val_loss: 0.0085 - val_mean_squared_error: 0.0085\n",
      "Epoch 46/100\n",
      "163/163 [==============================] - 1s 3ms/step - loss: 0.0013 - mean_squared_error: 0.0013 - val_loss: 0.0086 - val_mean_squared_error: 0.0086\n",
      "Epoch 47/100\n",
      "163/163 [==============================] - 1s 3ms/step - loss: 5.5081e-04 - mean_squared_error: 5.5081e-04 - val_loss: 0.0084 - val_mean_squared_error: 0.0084\n",
      "Epoch 48/100\n",
      "163/163 [==============================] - 0s 3ms/step - loss: 0.0013 - mean_squared_error: 0.0013 - val_loss: 0.0086 - val_mean_squared_error: 0.0086\n",
      "Epoch 49/100\n",
      "163/163 [==============================] - 1s 4ms/step - loss: 8.6707e-04 - mean_squared_error: 8.6707e-04 - val_loss: 0.0085 - val_mean_squared_error: 0.0085\n",
      "Epoch 50/100\n",
      "163/163 [==============================] - 1s 3ms/step - loss: 8.7233e-04 - mean_squared_error: 8.7233e-04 - val_loss: 0.0086 - val_mean_squared_error: 0.0086\n",
      "Epoch 51/100\n",
      "163/163 [==============================] - 1s 3ms/step - loss: 9.1512e-04 - mean_squared_error: 9.1512e-04 - val_loss: 0.0085 - val_mean_squared_error: 0.0085\n",
      "Epoch 52/100\n",
      "163/163 [==============================] - 1s 3ms/step - loss: 0.0011 - mean_squared_error: 0.0011 - val_loss: 0.0083 - val_mean_squared_error: 0.0083\n",
      "Epoch 53/100\n",
      "163/163 [==============================] - 1s 3ms/step - loss: 8.2163e-04 - mean_squared_error: 8.2163e-04 - val_loss: 0.0087 - val_mean_squared_error: 0.0087\n",
      "Epoch 54/100\n",
      "163/163 [==============================] - 1s 4ms/step - loss: 6.9338e-04 - mean_squared_error: 6.9338e-04 - val_loss: 0.0087 - val_mean_squared_error: 0.0087\n",
      "Epoch 55/100\n",
      "163/163 [==============================] - 1s 3ms/step - loss: 9.7709e-04 - mean_squared_error: 9.7709e-04 - val_loss: 0.0086 - val_mean_squared_error: 0.0086\n",
      "Epoch 56/100\n",
      "163/163 [==============================] - 1s 3ms/step - loss: 8.2968e-04 - mean_squared_error: 8.2968e-04 - val_loss: 0.0085 - val_mean_squared_error: 0.0085\n",
      "Epoch 57/100\n",
      "163/163 [==============================] - 1s 3ms/step - loss: 6.1787e-04 - mean_squared_error: 6.1787e-04 - val_loss: 0.0092 - val_mean_squared_error: 0.0092\n",
      "Epoch 58/100\n",
      "163/163 [==============================] - 1s 4ms/step - loss: 6.4931e-04 - mean_squared_error: 6.4931e-04 - val_loss: 0.0087 - val_mean_squared_error: 0.0087\n",
      "Epoch 59/100\n",
      "163/163 [==============================] - 1s 3ms/step - loss: 8.8101e-04 - mean_squared_error: 8.8101e-04 - val_loss: 0.0089 - val_mean_squared_error: 0.0089\n",
      "Epoch 60/100\n",
      "163/163 [==============================] - 1s 4ms/step - loss: 0.0013 - mean_squared_error: 0.0013 - val_loss: 0.0086 - val_mean_squared_error: 0.0086\n",
      "Epoch 61/100\n",
      "163/163 [==============================] - 1s 4ms/step - loss: 9.1850e-04 - mean_squared_error: 9.1850e-04 - val_loss: 0.0082 - val_mean_squared_error: 0.0082\n",
      "Epoch 62/100\n",
      "163/163 [==============================] - 1s 4ms/step - loss: 9.3712e-04 - mean_squared_error: 9.3712e-04 - val_loss: 0.0088 - val_mean_squared_error: 0.0088\n",
      "Epoch 63/100\n",
      "163/163 [==============================] - 1s 3ms/step - loss: 0.0011 - mean_squared_error: 0.0011 - val_loss: 0.0085 - val_mean_squared_error: 0.0085\n",
      "Epoch 64/100\n",
      "163/163 [==============================] - 1s 3ms/step - loss: 6.3708e-04 - mean_squared_error: 6.3708e-04 - val_loss: 0.0088 - val_mean_squared_error: 0.0088\n",
      "Epoch 65/100\n",
      "163/163 [==============================] - 1s 3ms/step - loss: 0.0012 - mean_squared_error: 0.0012 - val_loss: 0.0088 - val_mean_squared_error: 0.0088\n",
      "Epoch 66/100\n",
      "163/163 [==============================] - 1s 4ms/step - loss: 9.0379e-04 - mean_squared_error: 9.0379e-04 - val_loss: 0.0088 - val_mean_squared_error: 0.0088\n",
      "Epoch 67/100\n",
      "163/163 [==============================] - 1s 4ms/step - loss: 8.3897e-04 - mean_squared_error: 8.3897e-04 - val_loss: 0.0087 - val_mean_squared_error: 0.0087\n",
      "Epoch 68/100\n",
      "163/163 [==============================] - 1s 3ms/step - loss: 6.6011e-04 - mean_squared_error: 6.6011e-04 - val_loss: 0.0085 - val_mean_squared_error: 0.0085\n",
      "Epoch 69/100\n",
      "163/163 [==============================] - 1s 4ms/step - loss: 5.0997e-04 - mean_squared_error: 5.0997e-04 - val_loss: 0.0088 - val_mean_squared_error: 0.0088\n",
      "Epoch 70/100\n",
      "163/163 [==============================] - 1s 4ms/step - loss: 9.5689e-04 - mean_squared_error: 9.5689e-04 - val_loss: 0.0086 - val_mean_squared_error: 0.0086\n",
      "Epoch 71/100\n",
      "163/163 [==============================] - 1s 3ms/step - loss: 9.2721e-04 - mean_squared_error: 9.2721e-04 - val_loss: 0.0092 - val_mean_squared_error: 0.0092\n",
      "Epoch 72/100\n",
      "163/163 [==============================] - 1s 4ms/step - loss: 9.0340e-04 - mean_squared_error: 9.0340e-04 - val_loss: 0.0088 - val_mean_squared_error: 0.0088\n",
      "Epoch 73/100\n",
      "163/163 [==============================] - 1s 4ms/step - loss: 9.4416e-04 - mean_squared_error: 9.4416e-04 - val_loss: 0.0089 - val_mean_squared_error: 0.0089\n",
      "Epoch 74/100\n",
      "163/163 [==============================] - 1s 4ms/step - loss: 9.6870e-04 - mean_squared_error: 9.6870e-04 - val_loss: 0.0090 - val_mean_squared_error: 0.0090\n",
      "Epoch 75/100\n",
      "163/163 [==============================] - 1s 4ms/step - loss: 0.0011 - mean_squared_error: 0.0011 - val_loss: 0.0090 - val_mean_squared_error: 0.0090\n",
      "Epoch 76/100\n",
      "163/163 [==============================] - 1s 4ms/step - loss: 7.7759e-04 - mean_squared_error: 7.7759e-04 - val_loss: 0.0089 - val_mean_squared_error: 0.0089\n",
      "Epoch 77/100\n",
      "163/163 [==============================] - 1s 4ms/step - loss: 9.7282e-04 - mean_squared_error: 9.7282e-04 - val_loss: 0.0089 - val_mean_squared_error: 0.0089\n",
      "Epoch 78/100\n",
      "163/163 [==============================] - 1s 4ms/step - loss: 8.8041e-04 - mean_squared_error: 8.8041e-04 - val_loss: 0.0087 - val_mean_squared_error: 0.0087\n",
      "Epoch 79/100\n",
      "163/163 [==============================] - 1s 4ms/step - loss: 6.2142e-04 - mean_squared_error: 6.2142e-04 - val_loss: 0.0090 - val_mean_squared_error: 0.0090\n",
      "Epoch 80/100\n",
      "163/163 [==============================] - 1s 4ms/step - loss: 8.4656e-04 - mean_squared_error: 8.4656e-04 - val_loss: 0.0086 - val_mean_squared_error: 0.0086\n",
      "Epoch 81/100\n",
      "163/163 [==============================] - 1s 4ms/step - loss: 8.1455e-04 - mean_squared_error: 8.1455e-04 - val_loss: 0.0089 - val_mean_squared_error: 0.0089\n",
      "Epoch 82/100\n",
      "163/163 [==============================] - 1s 3ms/step - loss: 7.6307e-04 - mean_squared_error: 7.6307e-04 - val_loss: 0.0086 - val_mean_squared_error: 0.0086\n",
      "Epoch 83/100\n",
      "163/163 [==============================] - 1s 3ms/step - loss: 9.2559e-04 - mean_squared_error: 9.2559e-04 - val_loss: 0.0087 - val_mean_squared_error: 0.0087\n",
      "Epoch 84/100\n",
      "163/163 [==============================] - 1s 3ms/step - loss: 0.0010 - mean_squared_error: 0.0010 - val_loss: 0.0086 - val_mean_squared_error: 0.0086\n",
      "Epoch 85/100\n",
      "163/163 [==============================] - 1s 4ms/step - loss: 0.0012 - mean_squared_error: 0.0012 - val_loss: 0.0091 - val_mean_squared_error: 0.0091\n",
      "Epoch 86/100\n",
      "163/163 [==============================] - 1s 3ms/step - loss: 9.7806e-04 - mean_squared_error: 9.7806e-04 - val_loss: 0.0086 - val_mean_squared_error: 0.0086\n",
      "Epoch 87/100\n",
      "163/163 [==============================] - 1s 3ms/step - loss: 9.2952e-04 - mean_squared_error: 9.2952e-04 - val_loss: 0.0091 - val_mean_squared_error: 0.0091\n",
      "Epoch 88/100\n",
      "163/163 [==============================] - 1s 4ms/step - loss: 7.8800e-04 - mean_squared_error: 7.8800e-04 - val_loss: 0.0091 - val_mean_squared_error: 0.0091\n",
      "Epoch 89/100\n",
      "163/163 [==============================] - 1s 4ms/step - loss: 6.4093e-04 - mean_squared_error: 6.4093e-04 - val_loss: 0.0085 - val_mean_squared_error: 0.0085\n",
      "Epoch 90/100\n",
      "163/163 [==============================] - 1s 4ms/step - loss: 8.1781e-04 - mean_squared_error: 8.1781e-04 - val_loss: 0.0087 - val_mean_squared_error: 0.0087\n",
      "Epoch 91/100\n",
      "163/163 [==============================] - 1s 3ms/step - loss: 7.7211e-04 - mean_squared_error: 7.7211e-04 - val_loss: 0.0091 - val_mean_squared_error: 0.0091\n",
      "Epoch 92/100\n",
      "163/163 [==============================] - 1s 4ms/step - loss: 9.0924e-04 - mean_squared_error: 9.0924e-04 - val_loss: 0.0088 - val_mean_squared_error: 0.0088\n",
      "Epoch 93/100\n",
      "163/163 [==============================] - 1s 4ms/step - loss: 6.2598e-04 - mean_squared_error: 6.2598e-04 - val_loss: 0.0089 - val_mean_squared_error: 0.0089\n",
      "Epoch 94/100\n",
      "163/163 [==============================] - 1s 4ms/step - loss: 6.1885e-04 - mean_squared_error: 6.1885e-04 - val_loss: 0.0087 - val_mean_squared_error: 0.0087\n",
      "Epoch 95/100\n",
      "163/163 [==============================] - 1s 4ms/step - loss: 8.7523e-04 - mean_squared_error: 8.7523e-04 - val_loss: 0.0087 - val_mean_squared_error: 0.0087\n",
      "Epoch 96/100\n",
      "163/163 [==============================] - 1s 4ms/step - loss: 5.1847e-04 - mean_squared_error: 5.1847e-04 - val_loss: 0.0087 - val_mean_squared_error: 0.0087\n",
      "Epoch 97/100\n",
      "163/163 [==============================] - 1s 3ms/step - loss: 0.0010 - mean_squared_error: 0.0010 - val_loss: 0.0090 - val_mean_squared_error: 0.0090\n",
      "Epoch 98/100\n",
      "163/163 [==============================] - 1s 3ms/step - loss: 6.9465e-04 - mean_squared_error: 6.9465e-04 - val_loss: 0.0087 - val_mean_squared_error: 0.0087\n",
      "Epoch 99/100\n",
      "163/163 [==============================] - 1s 3ms/step - loss: 9.0372e-04 - mean_squared_error: 9.0372e-04 - val_loss: 0.0083 - val_mean_squared_error: 0.0083\n",
      "Epoch 100/100\n",
      "163/163 [==============================] - 1s 3ms/step - loss: 0.0014 - mean_squared_error: 0.0014 - val_loss: 0.0088 - val_mean_squared_error: 0.0088\n"
     ]
    },
    {
     "data": {
      "text/plain": [
       "<tensorflow.python.keras.callbacks.History at 0x7fec553ef190>"
      ]
     },
     "execution_count": 89,
     "metadata": {
      "tags": []
     },
     "output_type": "execute_result"
    }
   ],
   "source": [
    "# Compile the model\n",
    "model.compile(loss=losses.mean_squared_error, optimizer=Adam(lr=0.0005), metrics=[\"MeanSquaredError\"])\n",
    "# Train the model\n",
    "model.fit(np.array(train_fingerprints_array), np.array(train_solubility_list), validation_split=0.1, batch_size=5, epochs= 100, shuffle=True, verbose=1)"
   ]
  },
  {
   "cell_type": "code",
   "execution_count": null,
   "metadata": {
    "colab": {
     "base_uri": "https://localhost:8080/"
    },
    "id": "6-cyqUSu8Z5B",
    "outputId": "f28f6641-f172-4c60-bad6-4576359fd9d3"
   },
   "outputs": [
    {
     "name": "stdout",
     "output_type": "stream",
     "text": [
      "29/29 [==============================] - 0s 2ms/step - loss: 0.0017 - mean_squared_error: 0.0017\n",
      "8/8 [==============================] - 0s 2ms/step - loss: 0.0098 - mean_squared_error: 0.0098\n",
      "Train MSE: 0.0016656618099659681 Test MSE: 0.009782472625374794\n"
     ]
    }
   ],
   "source": [
    "train_loss, train_acc = model.evaluate(np.array(train_fingerprints_array), np.array(train_solubility_list))\n",
    "test_loss, test_acc = model.evaluate(np.array(test_fingerprints_array), np.array(test_solubility_list))\n",
    "print('Train MSE:', train_acc, 'Test MSE:', test_acc)"
   ]
  },
  {
   "cell_type": "markdown",
   "metadata": {
    "id": "vfnU3t1ZuxeG"
   },
   "source": [
    "## Make Prediction from the Trained Model"
   ]
  },
  {
   "cell_type": "code",
   "execution_count": null,
   "metadata": {
    "colab": {
     "base_uri": "https://localhost:8080/"
    },
    "id": "iKy7rpkD6bLb",
    "outputId": "a01afe84-9fe6-4174-e7bb-d812b5b7603b"
   },
   "outputs": [
    {
     "name": "stdout",
     "output_type": "stream",
     "text": [
      "902/902 [==============================] - 1s 1ms/step\n",
      "226/226 [==============================] - 0s 1ms/step\n"
     ]
    }
   ],
   "source": [
    "train_predictions = model.predict(np.array(train_fingerprints_array), batch_size=1, verbose=1)\n",
    "test_predictions = model.predict(np.array(test_fingerprints_array), batch_size=1, verbose=1)"
   ]
  },
  {
   "cell_type": "code",
   "execution_count": null,
   "metadata": {
    "id": "JtwwJ0zYlVFm"
   },
   "outputs": [],
   "source": [
    "train_prediction_array = np.array([train_predictions.flatten(), train_solubility_list])\n",
    "test_prediction_array = np.array([test_predictions.flatten(), test_solubility_list])\n",
    "# Inverse fitting the arrays so that they have the original solubility unit\n",
    "train_prediction_array = scaler.inverse_transform(train_prediction_array)\n",
    "test_prediction_array = scaler.inverse_transform(test_prediction_array)\n",
    "# Make a pandas dataframe for better visualization\n",
    "train_prediction_df = pd.DataFrame(train_prediction_array.transpose(), columns = ['Prediction','Experimental']).round(2)\n",
    "test_prediction_df = pd.DataFrame(test_prediction_array.transpose(), columns = ['Prediction','Experimental']).round(2)"
   ]
  },
  {
   "cell_type": "code",
   "execution_count": null,
   "metadata": {
    "colab": {
     "base_uri": "https://localhost:8080/",
     "height": 335
    },
    "id": "ZpkZHQzDoFCT",
    "outputId": "f81eb96f-ad53-4258-bcc0-2bfc9c1e09f9"
   },
   "outputs": [
    {
     "data": {
      "text/html": [
       "<div>\n",
       "<style scoped>\n",
       "    .dataframe tbody tr th:only-of-type {\n",
       "        vertical-align: middle;\n",
       "    }\n",
       "\n",
       "    .dataframe tbody tr th {\n",
       "        vertical-align: top;\n",
       "    }\n",
       "\n",
       "    .dataframe thead th {\n",
       "        text-align: right;\n",
       "    }\n",
       "</style>\n",
       "<table border=\"1\" class=\"dataframe\">\n",
       "  <thead>\n",
       "    <tr style=\"text-align: right;\">\n",
       "      <th></th>\n",
       "      <th>Prediction</th>\n",
       "      <th>Experimental</th>\n",
       "    </tr>\n",
       "  </thead>\n",
       "  <tbody>\n",
       "    <tr>\n",
       "      <th>0</th>\n",
       "      <td>-1.89</td>\n",
       "      <td>-1.99</td>\n",
       "    </tr>\n",
       "    <tr>\n",
       "      <th>1</th>\n",
       "      <td>-4.25</td>\n",
       "      <td>-4.26</td>\n",
       "    </tr>\n",
       "    <tr>\n",
       "      <th>2</th>\n",
       "      <td>-0.40</td>\n",
       "      <td>-0.47</td>\n",
       "    </tr>\n",
       "    <tr>\n",
       "      <th>3</th>\n",
       "      <td>0.19</td>\n",
       "      <td>0.15</td>\n",
       "    </tr>\n",
       "    <tr>\n",
       "      <th>4</th>\n",
       "      <td>-4.22</td>\n",
       "      <td>-4.23</td>\n",
       "    </tr>\n",
       "    <tr>\n",
       "      <th>5</th>\n",
       "      <td>-2.33</td>\n",
       "      <td>-2.55</td>\n",
       "    </tr>\n",
       "    <tr>\n",
       "      <th>6</th>\n",
       "      <td>-4.13</td>\n",
       "      <td>-4.21</td>\n",
       "    </tr>\n",
       "    <tr>\n",
       "      <th>7</th>\n",
       "      <td>-4.37</td>\n",
       "      <td>-4.35</td>\n",
       "    </tr>\n",
       "    <tr>\n",
       "      <th>8</th>\n",
       "      <td>-3.99</td>\n",
       "      <td>-4.07</td>\n",
       "    </tr>\n",
       "    <tr>\n",
       "      <th>9</th>\n",
       "      <td>-3.08</td>\n",
       "      <td>-3.04</td>\n",
       "    </tr>\n",
       "  </tbody>\n",
       "</table>\n",
       "</div>"
      ],
      "text/plain": [
       "   Prediction  Experimental\n",
       "0       -1.89         -1.99\n",
       "1       -4.25         -4.26\n",
       "2       -0.40         -0.47\n",
       "3        0.19          0.15\n",
       "4       -4.22         -4.23\n",
       "5       -2.33         -2.55\n",
       "6       -4.13         -4.21\n",
       "7       -4.37         -4.35\n",
       "8       -3.99         -4.07\n",
       "9       -3.08         -3.04"
      ]
     },
     "execution_count": 93,
     "metadata": {
      "tags": []
     },
     "output_type": "execute_result"
    }
   ],
   "source": [
    "train_prediction_df.head(10)"
   ]
  },
  {
   "cell_type": "code",
   "execution_count": null,
   "metadata": {
    "colab": {
     "base_uri": "https://localhost:8080/",
     "height": 335
    },
    "id": "ivTxW7MQjeMn",
    "outputId": "afeea3d2-dd5b-4b37-dc5b-b092e88645d2"
   },
   "outputs": [
    {
     "data": {
      "text/html": [
       "<div>\n",
       "<style scoped>\n",
       "    .dataframe tbody tr th:only-of-type {\n",
       "        vertical-align: middle;\n",
       "    }\n",
       "\n",
       "    .dataframe tbody tr th {\n",
       "        vertical-align: top;\n",
       "    }\n",
       "\n",
       "    .dataframe thead th {\n",
       "        text-align: right;\n",
       "    }\n",
       "</style>\n",
       "<table border=\"1\" class=\"dataframe\">\n",
       "  <thead>\n",
       "    <tr style=\"text-align: right;\">\n",
       "      <th></th>\n",
       "      <th>Prediction</th>\n",
       "      <th>Experimental</th>\n",
       "    </tr>\n",
       "  </thead>\n",
       "  <tbody>\n",
       "    <tr>\n",
       "      <th>0</th>\n",
       "      <td>-3.78</td>\n",
       "      <td>-3.18</td>\n",
       "    </tr>\n",
       "    <tr>\n",
       "      <th>1</th>\n",
       "      <td>-2.61</td>\n",
       "      <td>-0.81</td>\n",
       "    </tr>\n",
       "    <tr>\n",
       "      <th>2</th>\n",
       "      <td>-2.07</td>\n",
       "      <td>-2.21</td>\n",
       "    </tr>\n",
       "    <tr>\n",
       "      <th>3</th>\n",
       "      <td>-2.81</td>\n",
       "      <td>-4.31</td>\n",
       "    </tr>\n",
       "    <tr>\n",
       "      <th>4</th>\n",
       "      <td>-6.23</td>\n",
       "      <td>-6.73</td>\n",
       "    </tr>\n",
       "    <tr>\n",
       "      <th>5</th>\n",
       "      <td>-2.33</td>\n",
       "      <td>-2.17</td>\n",
       "    </tr>\n",
       "    <tr>\n",
       "      <th>6</th>\n",
       "      <td>-1.49</td>\n",
       "      <td>-1.34</td>\n",
       "    </tr>\n",
       "    <tr>\n",
       "      <th>7</th>\n",
       "      <td>-4.26</td>\n",
       "      <td>-3.01</td>\n",
       "    </tr>\n",
       "    <tr>\n",
       "      <th>8</th>\n",
       "      <td>-1.18</td>\n",
       "      <td>-1.94</td>\n",
       "    </tr>\n",
       "    <tr>\n",
       "      <th>9</th>\n",
       "      <td>-3.62</td>\n",
       "      <td>-2.24</td>\n",
       "    </tr>\n",
       "  </tbody>\n",
       "</table>\n",
       "</div>"
      ],
      "text/plain": [
       "   Prediction  Experimental\n",
       "0       -3.78         -3.18\n",
       "1       -2.61         -0.81\n",
       "2       -2.07         -2.21\n",
       "3       -2.81         -4.31\n",
       "4       -6.23         -6.73\n",
       "5       -2.33         -2.17\n",
       "6       -1.49         -1.34\n",
       "7       -4.26         -3.01\n",
       "8       -1.18         -1.94\n",
       "9       -3.62         -2.24"
      ]
     },
     "execution_count": 94,
     "metadata": {
      "tags": []
     },
     "output_type": "execute_result"
    }
   ],
   "source": [
    "test_prediction_df.head(10)"
   ]
  },
  {
   "cell_type": "code",
   "execution_count": null,
   "metadata": {
    "id": "PIMbB8Rbcp1A"
   },
   "outputs": [],
   "source": []
  }
 ],
 "metadata": {
  "accelerator": "GPU",
  "colab": {
   "collapsed_sections": [],
   "name": "RDKit_fingerprint_solubility_NN.ipynb",
   "provenance": []
  },
  "kernelspec": {
   "display_name": "Python 3",
   "language": "python",
   "name": "python3"
  },
  "language_info": {
   "codemirror_mode": {
    "name": "ipython",
    "version": 3
   },
   "file_extension": ".py",
   "mimetype": "text/x-python",
   "name": "python",
   "nbconvert_exporter": "python",
   "pygments_lexer": "ipython3",
   "version": "3.7.6"
  }
 },
 "nbformat": 4,
 "nbformat_minor": 1
}
